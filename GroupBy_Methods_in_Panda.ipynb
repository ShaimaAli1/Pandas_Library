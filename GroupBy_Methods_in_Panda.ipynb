{
  "nbformat": 4,
  "nbformat_minor": 0,
  "metadata": {
    "colab": {
      "provenance": []
    },
    "kernelspec": {
      "name": "python3",
      "display_name": "Python 3"
    },
    "language_info": {
      "name": "python"
    }
  },
  "cells": [
    {
      "cell_type": "markdown",
      "source": [
        "### **Tutorial: GroupBy Methods in Pandas - `aggregate()`, `filter()`, `transform()`, and `apply()`**\n",
        "\n",
        "When you use the **`groupby()`** method in **Pandas**, you divide your data into groups based on a certain criterion. Once the data is grouped, you can apply various methods to perform operations on each group. These methods include **`aggregate()`**, **`filter()`**, **`transform()`**, and **`apply()`**, each serving a different purpose.\n",
        "\n",
        "Let's dive into each of these methods and understand how they work.\n",
        "\n",
        "---\n"
      ],
      "metadata": {
        "id": "8clR55VqGj56"
      }
    },
    {
      "cell_type": "markdown",
      "source": [
        "\n",
        "### **1. `aggregate()` Method:**\n",
        "\n",
        "The **`aggregate()`** method allows you to apply one or more aggregation functions to the grouped data. These functions include common statistical operations like sum, mean, min, max, etc.\n"
      ],
      "metadata": {
        "id": "f7yWV1JYHaEP"
      }
    },
    {
      "cell_type": "markdown",
      "source": [
        "\n",
        "\n",
        "- **`func`**: A function or a list of functions to apply to each group.\n",
        "- You can use built-in aggregation functions or define your own.\n"
      ],
      "metadata": {
        "id": "3Vi6su8gHpDe"
      }
    },
    {
      "cell_type": "code",
      "source": [
        "import pandas as pd\n",
        "\n",
        "# Sample data\n",
        "data = {'Category': ['A', 'A', 'B', 'B', 'A', 'B'],\n",
        "        'Value': [10, 20, 30, 40, 50, 60]}\n",
        "\n",
        "df = pd.DataFrame(data)\n",
        "\n",
        "# Group by Category and apply aggregate functions\n",
        "grouped = df.groupby('Category')\n",
        "\n",
        "# Applying multiple aggregate functions\n",
        "result = grouped['Value'].aggregate(['sum', 'mean', 'min', 'max'])\n",
        "print(result)\n"
      ],
      "metadata": {
        "colab": {
          "base_uri": "https://localhost:8080/"
        },
        "id": "KmSgrxdMIE-C",
        "outputId": "ca1f6b76-b488-45e5-a452-22b8095d5f5c"
      },
      "execution_count": null,
      "outputs": [
        {
          "output_type": "stream",
          "name": "stdout",
          "text": [
            "          sum       mean  min  max\n",
            "Category                          \n",
            "A          80  26.666667   10   50\n",
            "B         130  43.333333   30   60\n"
          ]
        }
      ]
    },
    {
      "cell_type": "markdown",
      "source": [
        "\n",
        "In this example, we applied multiple aggregation functions (`sum`, `mean`, `min`, and `max`) to the **`Value`** column for each **`Category`** group.\n",
        "\n",
        "---\n"
      ],
      "metadata": {
        "id": "7PbvMaYmH-DT"
      }
    },
    {
      "cell_type": "markdown",
      "source": [
        "\n",
        "### **2. `filter()` Method:**\n",
        "\n",
        "The **`filter()`** method is used to filter out groups based on certain conditions. It can help you exclude groups that don't meet a specific criterion, such as groups that don't contain a minimum number of items or don't satisfy a certain statistical condition.\n",
        "\n"
      ],
      "metadata": {
        "id": "bQDJrK1EIH99"
      }
    },
    {
      "cell_type": "markdown",
      "source": [
        "\n",
        "- **`lambda x: condition`**: A lambda function that takes a group and returns `True` if the group should be included, `False` otherwise.\n"
      ],
      "metadata": {
        "id": "83GyWEzYISxu"
      }
    },
    {
      "cell_type": "code",
      "source": [
        "# Filter out groups with less than 2 values\n",
        "result = grouped.filter(lambda x: len(x) >= 2)\n",
        "print(result)\n"
      ],
      "metadata": {
        "colab": {
          "base_uri": "https://localhost:8080/"
        },
        "id": "OoccRGjsIaZd",
        "outputId": "d3c0cbd7-7a75-40b3-c535-970747d04ea4"
      },
      "execution_count": null,
      "outputs": [
        {
          "output_type": "stream",
          "name": "stdout",
          "text": [
            "  Category  Value\n",
            "0        A     10\n",
            "1        A     20\n",
            "2        B     30\n",
            "3        B     40\n",
            "4        A     50\n",
            "5        B     60\n"
          ]
        }
      ]
    },
    {
      "cell_type": "markdown",
      "source": [
        "\n",
        "Here, all groups with less than 2 entries would have been excluded, but in this case, all groups meet the condition, so no groups were filtered out.\n",
        "\n",
        "---\n"
      ],
      "metadata": {
        "id": "E3LSgzDyHpBu"
      }
    },
    {
      "cell_type": "markdown",
      "source": [
        "\n",
        "### **3. `transform()` Method:**\n",
        "\n",
        "The **`transform()`** method is used when you want to apply a function to each group, but unlike **`aggregate()`**, it returns a **DataFrame** that has the same shape as the original input. This means that the transformed values will be broadcasted back to match the original DataFrame.\n",
        "\n",
        "\n",
        "- **`func`**: The function to apply to each group.\n"
      ],
      "metadata": {
        "id": "6CBfgcS_IiJW"
      }
    },
    {
      "cell_type": "code",
      "source": [
        "# Apply transformation to subtract the group mean\n",
        "result = grouped['Value'].transform(lambda x: x - x.mean())\n",
        "print(result)\n"
      ],
      "metadata": {
        "colab": {
          "base_uri": "https://localhost:8080/"
        },
        "id": "jnb1N8C_Irdt",
        "outputId": "0dbce8c3-ecf0-4832-cf59-1da3d8968bc5"
      },
      "execution_count": null,
      "outputs": [
        {
          "output_type": "stream",
          "name": "stdout",
          "text": [
            "0   -16.666667\n",
            "1    -6.666667\n",
            "2   -13.333333\n",
            "3    -3.333333\n",
            "4    23.333333\n",
            "5    16.666667\n",
            "Name: Value, dtype: float64\n"
          ]
        }
      ]
    },
    {
      "cell_type": "markdown",
      "source": [
        "\n",
        "In this example, the **`transform()`** method subtracts the mean of each group from each value in the **`Value`** column, and it maintains the same shape as the original data.\n",
        "\n",
        "---\n"
      ],
      "metadata": {
        "id": "r5k6BvYUHo_-"
      }
    },
    {
      "cell_type": "markdown",
      "source": [
        "\n",
        "### **4. `apply()` Method:**\n",
        "\n",
        "The **`apply()`** method provides the most flexibility. It allows you to apply any function to each group and returns the result of that function applied to the group. This method can be used for more complex operations compared to the other methods.\n",
        "\n",
        "\n",
        "- **`func`**: A function that takes a group and returns a result (can be more complex than other methods).\n",
        "\n"
      ],
      "metadata": {
        "id": "--PJAb-9Ho9U"
      }
    },
    {
      "cell_type": "code",
      "execution_count": null,
      "metadata": {
        "colab": {
          "base_uri": "https://localhost:8080/"
        },
        "id": "mvnvABgIGbjh",
        "outputId": "c1f2c2b2-ff62-4054-ca84-27486b870ea1"
      },
      "outputs": [
        {
          "output_type": "stream",
          "name": "stdout",
          "text": [
            "Category\n",
            "A    40\n",
            "B    30\n",
            "Name: Value, dtype: int64\n"
          ]
        }
      ],
      "source": [
        "# Apply a custom function that calculates the range (max - min) for each group\n",
        "result = grouped['Value'].apply(lambda x: x.max() - x.min())\n",
        "print(result)\n"
      ]
    },
    {
      "cell_type": "markdown",
      "source": [
        "\n",
        "Here, we used **`apply()`** to compute the range (difference between max and min) for each group in the **`Value`** column. Unlike other methods, **`apply()`** is more versatile and can be used for complex operations.\n",
        "\n",
        "---\n"
      ],
      "metadata": {
        "id": "eytVyfx5I8qD"
      }
    },
    {
      "cell_type": "markdown",
      "source": [
        "\n",
        "### **Summary of Methods**:\n",
        "\n",
        "| **Method**    | **Purpose**                                                                                     | **Returns**                                          | **Use Case**                                                                 |\n",
        "|---------------|-------------------------------------------------------------------------------------------------|------------------------------------------------------|-----------------------------------------------------------------------------|\n",
        "| **`aggregate()`** | Applies aggregate functions like sum, mean, etc. to each group.                                   | DataFrame with aggregated values for each group.      | Useful when you want to apply predefined aggregation functions.             |\n",
        "| **`filter()`**   | Filters out groups based on a condition.                                                          | DataFrame with groups that satisfy the condition.     | Use when you want to exclude groups based on a specific condition.           |\n",
        "| **`transform()`**| Transforms the data within each group and returns a DataFrame with the same shape as the input.   | A DataFrame with the transformed data.                | Useful for applying element-wise operations to each group while preserving the shape of the original data. |\n",
        "| **`apply()`**    | Applies a custom function to each group and returns a result based on that function.             | DataFrame or Series based on the result of the applied function. | Useful when you need to apply custom or complex operations to groups.       |\n",
        "\n",
        "\n",
        "\n",
        "\n",
        "---\n",
        "\n",
        "By mastering these **GroupBy** methods, you can perform complex data transformations, aggregations, and manipulations in a very efficient and readable way."
      ],
      "metadata": {
        "id": "vCBWSRc5JD5U"
      }
    }
  ]
}